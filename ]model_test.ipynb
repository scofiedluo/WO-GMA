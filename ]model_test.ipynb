{
 "cells": [
  {
   "cell_type": "code",
   "execution_count": 3,
   "metadata": {},
   "outputs": [],
   "source": [
    "import os\n",
    "import time\n",
    "import copy\n",
    "import yaml\n",
    "\n",
    "import torch\n",
    "import numpy as np\n",
    "from train import train_epoch\n",
    "from model.model import model\n",
    "from args import get_parser"
   ]
  },
  {
   "cell_type": "code",
   "execution_count": 5,
   "metadata": {},
   "outputs": [
    {
     "name": "stderr",
     "output_type": "stream",
     "text": [
      "usage: ipykernel_launcher.py [-h] [--work-dir WORK_DIR]\n",
      "                             [--model_saved_name MODEL_SAVED_NAME]\n",
      "                             [--config CONFIG] [--assume-yes] [--phase PHASE]\n",
      "                             [--save-score SAVE_SCORE] [--seed SEED]\n",
      "                             [--log-interval LOG_INTERVAL]\n",
      "                             [--save-interval SAVE_INTERVAL]\n",
      "                             [--eval-interval EVAL_INTERVAL]\n",
      "                             [--eval-start EVAL_START] [--print-log PRINT_LOG]\n",
      "                             [--feeder FEEDER] [--num-worker NUM_WORKER]\n",
      "                             [--train-feeder-args TRAIN_FEEDER_ARGS]\n",
      "                             [--test-feeder-args TEST_FEEDER_ARGS]\n",
      "                             [--skeleton_feature_dim SKELETON_FEATURE_DIM]\n",
      "                             [--conv3D_out_dim CONV3D_OUT_DIM] [--graph GRAPH]\n",
      "                             [--num_scales NUM_SCALES]\n",
      "                             [--window_size WINDOW_SIZE]\n",
      "                             [--window_stride WINDOW_STRIDE]\n",
      "                             [--window_dilation WINDOW_DILATION]\n",
      "                             [--vertices_fusion_out_dim VERTICES_FUSION_OUT_DIM]\n",
      "                             [--TPG_hidden_channels TPG_HIDDEN_CHANNELS [TPG_HIDDEN_CHANNELS ...]]\n",
      "                             [--num_class NUM_CLASS] [--kappa KAPPA]\n",
      "                             [--TPG_dropout TPG_DROPOUT]\n",
      "                             [--LSTM_hidden_channel LSTM_HIDDEN_CHANNEL]\n",
      "                             [--OAR_linear_hidden_channels OAR_LINEAR_HIDDEN_CHANNELS [OAR_LINEAR_HIDDEN_CHANNELS ...]]\n",
      "                             [--M M] [--OAR_dropout OAR_DROPOUT]\n",
      "                             [--model MODEL] [--model-args MODEL_ARGS]\n",
      "                             [--weights WEIGHTS]\n",
      "                             [--ignore-weights IGNORE_WEIGHTS [IGNORE_WEIGHTS ...]]\n",
      "                             [--base-lr BASE_LR] [--step STEP [STEP ...]]\n",
      "                             [--device DEVICE [DEVICE ...]]\n",
      "                             [--optimizer OPTIMIZER] [--nesterov NESTEROV]\n",
      "                             [--batch-size BATCH_SIZE]\n",
      "                             [--test-batch-size TEST_BATCH_SIZE]\n",
      "                             [--forward-batch-size FORWARD_BATCH_SIZE]\n",
      "                             [--start-epoch START_EPOCH]\n",
      "                             [--num-epoch NUM_EPOCH]\n",
      "                             [--weight-decay WEIGHT_DECAY]\n",
      "                             [--optimizer-states OPTIMIZER_STATES]\n",
      "                             [--checkpoint CHECKPOINT] [--debug DEBUG]\n",
      "ipykernel_launcher.py: error: unrecognized arguments: -f /lustre/home/acct-eedxw/eedxw-user3/.local/share/jupyter/runtime/kernel-c712e8b8-bf96-4fb9-aba3-09f92425b65a.json\n"
     ]
    },
    {
     "ename": "SystemExit",
     "evalue": "2",
     "output_type": "error",
     "traceback": [
      "An exception has occurred, use %tb to see the full traceback.\n",
      "\u001b[0;31mSystemExit\u001b[0m\u001b[0;31m:\u001b[0m 2\n"
     ]
    }
   ],
   "source": [
    "parser = get_parser()\n",
    "p = parser.parse_args()\n",
    "# if p.config is not None:\n",
    "#     with open(p.config, 'r') as f:\n",
    "#         default_arg = yaml.load(f)\n",
    "#     key = vars(p).keys()\n",
    "#     for k in default_arg.keys():\n",
    "#         if k not in key:\n",
    "#             print('WRONG ARG:', k)\n",
    "#             assert (k in key)\n",
    "#     parser.set_defaults(**default_arg)\n",
    "# arg = parser.parse_args()"
   ]
  }
 ],
 "metadata": {
  "kernelspec": {
   "display_name": "MS_G3D",
   "language": "python",
   "name": "ms_g3d"
  },
  "language_info": {
   "codemirror_mode": {
    "name": "ipython",
    "version": 3
   },
   "file_extension": ".py",
   "mimetype": "text/x-python",
   "name": "python",
   "nbconvert_exporter": "python",
   "pygments_lexer": "ipython3",
   "version": "3.7.9"
  }
 },
 "nbformat": 4,
 "nbformat_minor": 4
}
