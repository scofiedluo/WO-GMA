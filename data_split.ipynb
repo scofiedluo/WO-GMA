{
 "cells": [
  {
   "cell_type": "code",
   "execution_count": null,
   "metadata": {},
   "outputs": [],
   "source": [
    "import pandas as pd\n",
    "import os"
   ]
  },
  {
   "cell_type": "code",
   "execution_count": null,
   "metadata": {},
   "outputs": [],
   "source": [
    "train_fold3 = pd.read_csv('data/GMs_data/split_v7/fold5_train.csv')\n",
    "test_fold3 = pd.read_csv('data/GMs_data/split_v7/fold5_val.csv')\n",
    "\n",
    "train_fold3_group = train_fold3.groupby('Hospital')\n",
    "test_fold3_group = test_fold3.groupby('Hospital')\n"
   ]
  },
  {
   "cell_type": "code",
   "execution_count": null,
   "metadata": {},
   "outputs": [],
   "source": [
    "data_dir = 'data/GMs_data/split_v7'\n",
    "\n",
    "train_df1 = train_fold3_group.get_group('正常F+')\n",
    "test_df1 = test_fold3_group.get_group('正常F+')\n",
    "for fold_id in range(4):\n",
    "    cur_fold_val = pd.read_csv(data_dir+f'/fold{fold_id+1}_val.csv')\n",
    "    cur_fold_train = pd.read_csv(data_dir+f'/fold{fold_id+1}_train.csv')\n",
    "    idxs = [0,1,2,3]\n",
    "    idxs.remove(fold_id)\n",
    "    for j in range(int(len(train_df1)/4)):\n",
    "        tmp = pd.DataFrame(list(train_df1.loc[4*j+fold_id].values)).T\n",
    "        tmp.columns = cur_fold_val.columns\n",
    "        cur_fold_val = pd.concat([cur_fold_val,tmp],axis=0,ignore_index=True)\n",
    "        for k,idx in enumerate(idxs):\n",
    "            tmp = pd.DataFrame(list(train_df1.loc[4*j+idx].values)).T\n",
    "            tmp.columns = cur_fold_train.columns\n",
    "            cur_fold_train = pd.concat([cur_fold_train,tmp],axis=0,ignore_index=True)\n",
    "    cur_fold_train = pd.concat([cur_fold_train,test_df1])\n",
    "    cur_fold_train.to_csv(data_dir+f'/fold{fold_id+1}_train.csv',index=False)\n",
    "    cur_fold_val.to_csv(data_dir+f'/fold{fold_id+1}_val.csv',index=False)"
   ]
  },
  {
   "cell_type": "code",
   "execution_count": null,
   "metadata": {},
   "outputs": [],
   "source": [
    "train_df2 = train_fold3_group.get_group('异常F-_闵行妇保院')\n",
    "test_df2 = test_fold3_group.get_group('异常F-_闵行妇保院')\n",
    "for fold_id in range(4):\n",
    "    cur_fold_val = pd.read_csv(data_dir+f'/fold{fold_id+1}_val.csv')\n",
    "    cur_fold_train = pd.read_csv(data_dir+f'/fold{fold_id+1}_train.csv')\n",
    "    idxs = [0,1,2,3]\n",
    "    idxs.remove(fold_id)\n",
    "    for j in range(int(len(train_df2)/4)):\n",
    "        tmp = pd.DataFrame(list(train_df2.loc[train_df2.index[4*j+fold_id]].values)).T\n",
    "        tmp.columns = cur_fold_val.columns\n",
    "        cur_fold_val = pd.concat([cur_fold_val,tmp],axis=0,ignore_index=True)\n",
    "        for k,idx in enumerate(idxs):\n",
    "            tmp = pd.DataFrame(list(train_df2.loc[train_df2.index[4*j+idx]].values)).T\n",
    "            tmp.columns = cur_fold_train.columns\n",
    "            cur_fold_train = pd.concat([cur_fold_train,tmp],axis=0,ignore_index=True)\n",
    "    cur_fold_train = pd.concat([cur_fold_train,test_df2])\n",
    "    cur_fold_train.to_csv(data_dir+f'/fold{fold_id+1}_train.csv',index=False)\n",
    "    cur_fold_val.to_csv(data_dir+f'/fold{fold_id+1}_val.csv',index=False)"
   ]
  },
  {
   "cell_type": "code",
   "execution_count": null,
   "metadata": {},
   "outputs": [],
   "source": [
    "train_df3 = train_fold3_group.get_group('异常F-_嘉定妇保院')\n",
    "test_df3 = test_fold3_group.get_group('异常F-_嘉定妇保院')\n",
    "for fold_id in range(4):\n",
    "    cur_fold_val = pd.read_csv(data_dir+f'/fold{fold_id+1}_val.csv')\n",
    "    cur_fold_train = pd.read_csv(data_dir+f'/fold{fold_id+1}_train.csv')\n",
    "    idxs = [0,1,2,3]\n",
    "    idxs.remove(fold_id)\n",
    "    for j in range(int(len(train_df3)/4)):\n",
    "        tmp = pd.DataFrame(list(train_df3.loc[train_df3.index[4*j+fold_id]].values)).T\n",
    "        tmp.columns = cur_fold_val.columns\n",
    "        cur_fold_val = pd.concat([cur_fold_val,tmp],axis=0,ignore_index=True)\n",
    "        for k,idx in enumerate(idxs):\n",
    "            tmp = pd.DataFrame(list(train_df3.loc[train_df3.index[4*j+idx]].values)).T\n",
    "            tmp.columns = cur_fold_train.columns\n",
    "            cur_fold_train = pd.concat([cur_fold_train,tmp],axis=0,ignore_index=True)\n",
    "    cur_fold_train = pd.concat([cur_fold_train,test_df3])\n",
    "    cur_fold_train.to_csv(data_dir+f'/fold{fold_id+1}_train.csv',index=False)\n",
    "    cur_fold_val.to_csv(data_dir+f'/fold{fold_id+1}_val.csv',index=False)"
   ]
  },
  {
   "cell_type": "code",
   "execution_count": 16,
   "metadata": {},
   "outputs": [],
   "source": [
    "all_data = train_fold3\n",
    "all_data = pd.concat([train_fold3, test_fold3],axis=0,ignore_index=True)\n",
    "video_index = list(all_data[\"index\"])\n",
    "for fold_id in range(4):\n",
    "    cur_fold_val = pd.read_csv(data_dir+f'/fold{fold_id+1}_val.csv')\n",
    "    cur_fold_train = pd.read_csv(data_dir+f'/fold{fold_id+1}_train.csv')\n",
    "    cur_all_data_index = list(pd.concat([cur_fold_train,cur_fold_val],axis=0,ignore_index=True)[\"index\"])\n",
    "    for idx in video_index:\n",
    "        if idx not in cur_all_data_index:\n",
    "            n = video_index.index(idx)\n",
    "            tmp = pd.DataFrame(list(all_data.loc[n].values)).T\n",
    "            tmp.columns = all_data.columns\n",
    "            cur_fold_train =  pd.concat([cur_fold_train, tmp],axis=0,ignore_index=True)\n",
    "    \n",
    "    cur_fold_train.to_csv(data_dir+f'/fold{fold_id+1}_train.csv',index=False)\n"
   ]
  }
 ],
 "metadata": {
  "interpreter": {
   "hash": "25bd642d7a9e67a100d717c362d0b9c2c9b8506afcee7ebd56e54913c316abcc"
  },
  "kernelspec": {
   "display_name": "MS_G3D",
   "language": "python",
   "name": "python3"
  },
  "language_info": {
   "codemirror_mode": {
    "name": "ipython",
    "version": 3
   },
   "file_extension": ".py",
   "mimetype": "text/x-python",
   "name": "python",
   "nbconvert_exporter": "python",
   "pygments_lexer": "ipython3",
   "version": "3.7.11"
  }
 },
 "nbformat": 4,
 "nbformat_minor": 4
}
